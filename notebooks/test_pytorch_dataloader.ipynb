{
 "cells": [
  {
   "cell_type": "code",
   "execution_count": 8,
   "metadata": {},
   "outputs": [
    {
     "output_type": "stream",
     "name": "stdout",
     "text": [
      "Files already downloaded and verified\n"
     ]
    }
   ],
   "source": [
    "import torch\n",
    "import torchvision\n",
    "import torchvision.transforms as transforms\n",
    "import matplotlib.pyplot as plt\n",
    "import numpy as np\n",
    "sys.path.append(\"../code\")\n",
    "\n",
    "transform_train = transforms.Compose([\n",
    "    ImgAugTransform(),\n",
    "    transforms.ToTensor(),\n",
    "    transforms.Normalize((0.4914, 0.4822, 0.4465), (0.2470, 0.2435, 0.2616)),\n",
    "    \n",
    "\n",
    "])\n",
    "\n",
    "invTrans = transforms.Compose([ transforms.Normalize(mean = [ 0., 0., 0. ],\n",
    "                                                     std = [ 1/0.2470, 1/0.2435, 1/0.2616 ]),\n",
    "                                transforms.Normalize(mean = [ -0.4914, -0.4822, -0.4465 ],\n",
    "                                                     std = [ 1., 1., 1. ]),\n",
    "                               ])\n",
    "\n",
    "\n",
    "trainset = torchvision.datasets.CIFAR10(\n",
    "    root='../data', train=True, download=True, transform=transform_train)\n",
    "\n",
    "trainset_orig = torchvision.datasets.CIFAR10(\n",
    "    root='../data', train=True, download=False, transform=transforms.ToTensor())\n",
    "\n",
    "trainloader = torch.utils.data.DataLoader(\n",
    "    trainset, batch_size=128, shuffle=False, num_workers=2,pin_memory=True)\n",
    "\n",
    "trainloader_orig = torch.utils.data.DataLoader(\n",
    "    trainset_orig, batch_size=128, shuffle=False, num_workers=2,pin_memory=True)"
   ]
  },
  {
   "cell_type": "code",
   "execution_count": 12,
   "metadata": {
    "tags": []
   },
   "outputs": [
    {
     "output_type": "error",
     "ename": "SyntaxError",
     "evalue": "invalid syntax (<ipython-input-12-019f7363b19c>, line 13)",
     "traceback": [
      "\u001b[0;36m  File \u001b[0;32m\"<ipython-input-12-019f7363b19c>\"\u001b[0;36m, line \u001b[0;32m13\u001b[0m\n\u001b[0;31m    ax = fig.add_subplot(2, 6, idx+1, xticks=import torchvision.transforms as transforms\u001b[0m\n\u001b[0m                                                  ^\u001b[0m\n\u001b[0;31mSyntaxError\u001b[0m\u001b[0;31m:\u001b[0m invalid syntax\n"
     ]
    }
   ],
   "source": [
    "\n",
    "\n",
    "for batch_idx, (inputs, targets) in enumerate(trainloader):\n",
    "    print(\"Shape of Training Images after TensorTransform\")\n",
    "    print(inputs.shape)\n",
    "    if batch_idx >= 0:\n",
    "        break\n",
    "\n",
    "images = inputs[0:12]\n",
    "fig = plt.figure(figsize=(12, 3))\n",
    "for idx in np.arange(12):\n",
    "    \n",
    "    image = invTrans(images[idx]).cpu().numpy()\n",
    "    image[image < 0] = 0.0\n",
    "    ax = fig.add_subplot(2, 6, idx+1, xticks=[], yticks=[])\n",
    "    plt.imshow(np.transpose(image.astype(np.float), (1, 2, 0)),interpolation='nearest', aspect='equal')#matplotlib_imshow(images[idx], one_channel=True)\n",
    "    #plt.imshow(images[idx])"
   ]
  },
  {
   "cell_type": "code",
   "execution_count": 10,
   "metadata": {},
   "outputs": [
    {
     "output_type": "stream",
     "name": "stdout",
     "text": [
      "Mean and STD values per channel for CIFAR-10 TrainSet\n",
      "tensor([0.4914, 0.4822, 0.4465]) tensor([0.2470, 0.2435, 0.2616])\n"
     ]
    }
   ],
   "source": [
    "print(\"Mean and STD values per channel for CIFAR-10 TrainSet\")\n",
    "data = torch.from_numpy(trainset_orig.data).float()\n",
    "\n",
    "# print(data.shape)\n",
    "# print(data[0])\n",
    "std,mean = torch.std_mean(data,dim=(0,1,2))\n",
    "print(mean/255,std/255) # normalize from 255\n"
   ]
  }
 ],
 "metadata": {
  "kernelspec": {
   "display_name": "Python 3",
   "language": "python",
   "name": "python3"
  },
  "language_info": {
   "codemirror_mode": {
    "name": "ipython",
    "version": 3
   },
   "file_extension": ".py",
   "mimetype": "text/x-python",
   "name": "python",
   "nbconvert_exporter": "python",
   "pygments_lexer": "ipython3",
   "version": "3.6.9-final"
  }
 },
 "nbformat": 4,
 "nbformat_minor": 2
}