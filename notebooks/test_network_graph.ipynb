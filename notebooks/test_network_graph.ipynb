{
 "metadata": {
  "language_info": {
   "codemirror_mode": {
    "name": "ipython",
    "version": 3
   },
   "file_extension": ".py",
   "mimetype": "text/x-python",
   "name": "python",
   "nbconvert_exporter": "python",
   "pygments_lexer": "ipython3",
   "version": "3.6.9-final"
  },
  "orig_nbformat": 2,
  "kernelspec": {
   "name": "python3",
   "display_name": "Python 3.6.9 64-bit",
   "metadata": {
    "interpreter": {
     "hash": "31f2aee4e71d21fbe5cf8b01ff0e069b9275f58929596ceb00d14d90e3e16cd6"
    }
   }
  }
 },
 "nbformat": 4,
 "nbformat_minor": 2,
 "cells": [
  {
   "cell_type": "code",
   "execution_count": 1,
   "metadata": {},
   "outputs": [
    {
     "output_type": "stream",
     "name": "stdout",
     "text": [
      "----------------------------------------------------------------\n        Layer (type)               Output Shape         Param #\n================================================================\n            Conv2d-1           [-1, 16, 32, 32]             432\n       BatchNorm2d-2           [-1, 16, 32, 32]              32\n            Conv2d-3           [-1, 16, 32, 32]           2,304\n       BatchNorm2d-4           [-1, 16, 32, 32]              32\n            Conv2d-5           [-1, 16, 32, 32]           2,304\n      ResUnitBlock-6           [-1, 16, 32, 32]               0\n       BatchNorm2d-7           [-1, 16, 32, 32]              32\n            Conv2d-8           [-1, 16, 32, 32]           2,304\n       BatchNorm2d-9           [-1, 16, 32, 32]              32\n           Conv2d-10           [-1, 16, 32, 32]           2,304\n     ResUnitBlock-11           [-1, 16, 32, 32]               0\n      BatchNorm2d-12           [-1, 16, 32, 32]              32\n           Conv2d-13           [-1, 16, 32, 32]           2,304\n      BatchNorm2d-14           [-1, 16, 32, 32]              32\n           Conv2d-15           [-1, 16, 32, 32]           2,304\n     ResUnitBlock-16           [-1, 16, 32, 32]               0\n      BatchNorm2d-17           [-1, 16, 32, 32]              32\n           Conv2d-18           [-1, 32, 16, 16]             512\n           Conv2d-19           [-1, 32, 16, 16]           4,608\n      BatchNorm2d-20           [-1, 32, 16, 16]              64\n           Conv2d-21           [-1, 32, 16, 16]           9,216\n     ResUnitBlock-22           [-1, 32, 16, 16]               0\n      BatchNorm2d-23           [-1, 32, 16, 16]              64\n           Conv2d-24           [-1, 32, 16, 16]           9,216\n      BatchNorm2d-25           [-1, 32, 16, 16]              64\n           Conv2d-26           [-1, 32, 16, 16]           9,216\n     ResUnitBlock-27           [-1, 32, 16, 16]               0\n      BatchNorm2d-28           [-1, 32, 16, 16]              64\n           Conv2d-29           [-1, 32, 16, 16]           9,216\n      BatchNorm2d-30           [-1, 32, 16, 16]              64\n           Conv2d-31           [-1, 32, 16, 16]           9,216\n     ResUnitBlock-32           [-1, 32, 16, 16]               0\n      BatchNorm2d-33           [-1, 32, 16, 16]              64\n           Conv2d-34             [-1, 64, 8, 8]           2,048\n           Conv2d-35             [-1, 64, 8, 8]          18,432\n      BatchNorm2d-36             [-1, 64, 8, 8]             128\n           Conv2d-37             [-1, 64, 8, 8]          36,864\n     ResUnitBlock-38             [-1, 64, 8, 8]               0\n      BatchNorm2d-39             [-1, 64, 8, 8]             128\n           Conv2d-40             [-1, 64, 8, 8]          36,864\n      BatchNorm2d-41             [-1, 64, 8, 8]             128\n           Conv2d-42             [-1, 64, 8, 8]          36,864\n     ResUnitBlock-43             [-1, 64, 8, 8]               0\n      BatchNorm2d-44             [-1, 64, 8, 8]             128\n           Conv2d-45             [-1, 64, 8, 8]          36,864\n      BatchNorm2d-46             [-1, 64, 8, 8]             128\n           Conv2d-47             [-1, 64, 8, 8]          36,864\n     ResUnitBlock-48             [-1, 64, 8, 8]               0\n           Linear-49                   [-1, 10]             650\n================================================================\nTotal params: 272,154\nTrainable params: 272,154\nNon-trainable params: 0\n----------------------------------------------------------------\nInput size (MB): 0.01\nForward/backward pass size (MB): 3.59\nParams size (MB): 1.04\nEstimated Total Size (MB): 4.64\n----------------------------------------------------------------\nNone\n----------------------------------------------------------------\n        Layer (type)               Output Shape         Param #\n================================================================\n            Conv2d-1           [-1, 64, 32, 32]           1,728\n       BatchNorm2d-2           [-1, 64, 32, 32]             128\n            Conv2d-3           [-1, 64, 32, 32]          36,864\n       BatchNorm2d-4           [-1, 64, 32, 32]             128\n            Conv2d-5           [-1, 64, 32, 32]          36,864\n      ResUnitBlock-6           [-1, 64, 32, 32]               0\n       BatchNorm2d-7           [-1, 64, 32, 32]             128\n            Conv2d-8           [-1, 64, 32, 32]          36,864\n       BatchNorm2d-9           [-1, 64, 32, 32]             128\n           Conv2d-10           [-1, 64, 32, 32]          36,864\n     ResUnitBlock-11           [-1, 64, 32, 32]               0\n      BatchNorm2d-12           [-1, 64, 32, 32]             128\n           Conv2d-13          [-1, 128, 16, 16]           8,192\n           Conv2d-14          [-1, 128, 16, 16]          73,728\n      BatchNorm2d-15          [-1, 128, 16, 16]             256\n           Conv2d-16          [-1, 128, 16, 16]         147,456\n     ResUnitBlock-17          [-1, 128, 16, 16]               0\n      BatchNorm2d-18          [-1, 128, 16, 16]             256\n           Conv2d-19          [-1, 128, 16, 16]         147,456\n      BatchNorm2d-20          [-1, 128, 16, 16]             256\n           Conv2d-21          [-1, 128, 16, 16]         147,456\n     ResUnitBlock-22          [-1, 128, 16, 16]               0\n      BatchNorm2d-23          [-1, 128, 16, 16]             256\n           Conv2d-24            [-1, 256, 8, 8]          32,768\n           Conv2d-25            [-1, 256, 8, 8]         294,912\n      BatchNorm2d-26            [-1, 256, 8, 8]             512\n           Conv2d-27            [-1, 256, 8, 8]         589,824\n     ResUnitBlock-28            [-1, 256, 8, 8]               0\n      BatchNorm2d-29            [-1, 256, 8, 8]             512\n           Conv2d-30            [-1, 256, 8, 8]         589,824\n      BatchNorm2d-31            [-1, 256, 8, 8]             512\n           Conv2d-32            [-1, 256, 8, 8]         589,824\n     ResUnitBlock-33            [-1, 256, 8, 8]               0\n      BatchNorm2d-34            [-1, 256, 8, 8]             512\n           Conv2d-35            [-1, 512, 4, 4]         131,072\n           Conv2d-36            [-1, 512, 4, 4]       1,179,648\n      BatchNorm2d-37            [-1, 512, 4, 4]           1,024\n           Conv2d-38            [-1, 512, 4, 4]       2,359,296\n     ResUnitBlock-39            [-1, 512, 4, 4]               0\n      BatchNorm2d-40            [-1, 512, 4, 4]           1,024\n           Conv2d-41            [-1, 512, 4, 4]       2,359,296\n      BatchNorm2d-42            [-1, 512, 4, 4]           1,024\n           Conv2d-43            [-1, 512, 4, 4]       2,359,296\n     ResUnitBlock-44            [-1, 512, 4, 4]               0\n           Linear-45                   [-1, 10]           5,130\n================================================================\nTotal params: 11,171,146\nTrainable params: 11,171,146\nNon-trainable params: 0\n----------------------------------------------------------------\nInput size (MB): 0.01\nForward/backward pass size (MB): 10.75\nParams size (MB): 42.61\nEstimated Total Size (MB): 53.38\n----------------------------------------------------------------\nNone\n"
     ]
    }
   ],
   "source": [
    "import os\n",
    "import torch\n",
    "import sys\n",
    "sys.path.append(\"../code\")\n",
    "from torch.utils.tensorboard import SummaryWriter\n",
    "import Model, Network, utils, ImageUtils, DataLoader, Configure\n",
    "import torchsummary\n",
    "\n",
    "net = Network.MyNetwork.ResNetV2Orig(3).cuda()\n",
    "\n",
    "net2 = Network.MyNetwork.ResNetV2Prop().cuda()\n",
    "\n",
    "\n",
    "print(torchsummary.summary(net,input_size=(3,32,32)))\n",
    "print(torchsummary.summary(net2,input_size=(3,32,32)))\n"
   ]
  }
 ]
}